{
  "nbformat": 4,
  "nbformat_minor": 0,
  "metadata": {
    "colab": {
      "provenance": []
    },
    "kernelspec": {
      "name": "python3",
      "display_name": "Python 3"
    },
    "language_info": {
      "name": "python"
    }
  },
  "cells": [
    {
      "cell_type": "code",
      "execution_count": 3,
      "metadata": {
        "id": "CzL3S3tarRve"
      },
      "outputs": [],
      "source": [
        "import numpy as np\n",
        "import pandas as pd"
      ]
    },
    {
      "cell_type": "code",
      "source": [
        "from google.colab import drive\n",
        "drive.mount('/content/drive')"
      ],
      "metadata": {
        "colab": {
          "base_uri": "https://localhost:8080/"
        },
        "id": "XtXl-eMVrU40",
        "outputId": "b33d1cce-0ec1-416e-edea-fc29640bd96b"
      },
      "execution_count": 4,
      "outputs": [
        {
          "output_type": "stream",
          "name": "stdout",
          "text": [
            "Drive already mounted at /content/drive; to attempt to forcibly remount, call drive.mount(\"/content/drive\", force_remount=True).\n"
          ]
        }
      ]
    },
    {
      "cell_type": "code",
      "source": [
        "dados = pd.read_csv('/content/drive/MyDrive/pesquisa_tratada.csv', sep= ',', encoding= 'UTF-8')\n",
        "dados.head(3)"
      ],
      "metadata": {
        "id": "zVrJH4tzsBlo"
      },
      "execution_count": null,
      "outputs": []
    },
    {
      "cell_type": "code",
      "source": [
        "# Gráfico de setor (pizza) da cor favorita\n",
        "import matplotlib.pyplot as plt\n",
        "\n",
        "# Contando as ocorrências de cada cor favorita\n",
        "contagem_cores = dados['cor_favorita'].value_counts()\n",
        "\n",
        "# Criando o gráfico de pizza\n",
        "plt.pie(contagem_cores, labels=contagem_cores.index,autopct='%1.1f%%')\n",
        "plt.title('Distribuição de cores favoritas')\n",
        "plt.axis('equal') # Para garantir que o gráfico seja um círculo\n",
        "plt.show()"
      ],
      "metadata": {
        "id": "-n_H5V2OsyD1"
      },
      "execution_count": null,
      "outputs": []
    },
    {
      "cell_type": "code",
      "source": [
        "# Gráfico de barras cor favorita\n",
        "plt.bar(contagem_cores.index, contagem_cores.values, color='red')\n",
        "plt.xlabel('Cores favoritas')\n",
        "plt.ylabel('Contagem')\n",
        "plt.title('Distribuição de Cores Favoritas')\n",
        "plt.show()\n"
      ],
      "metadata": {
        "id": "vZWU_D_1u_aP"
      },
      "execution_count": null,
      "outputs": []
    },
    {
      "cell_type": "code",
      "source": [
        "# Histograma da altura\n",
        "plt.hist(dados['altura'], bins=7, color='pink', edgecolor='brown')\n",
        "plt.xlabel('Altura')\n",
        "plt.ylabel('Frequência')\n",
        "plt.title('Histograma de altura')\n",
        "plt.show()"
      ],
      "metadata": {
        "id": "hMm4IuMrvtSk"
      },
      "execution_count": null,
      "outputs": []
    },
    {
      "cell_type": "code",
      "source": [
        "cor_preto = dados.loc[dados.cor_favorita.isin(['preta','preto'])]\n",
        "cor_preto.head(7)"
      ],
      "metadata": {
        "id": "PsRr3cIXwitf"
      },
      "execution_count": null,
      "outputs": []
    },
    {
      "cell_type": "code",
      "source": [
        "altura1 = dados.loc[dados.altura <1.70]\n",
        "altura1.head(12)"
      ],
      "metadata": {
        "id": "5o8F1Hhsw5Y1"
      },
      "execution_count": null,
      "outputs": []
    },
    {
      "cell_type": "code",
      "source": [
        "len(dados)"
      ],
      "metadata": {
        "id": "segnNuhkxbqz"
      },
      "execution_count": null,
      "outputs": []
    },
    {
      "cell_type": "code",
      "source": [
        "len(cor_preto)"
      ],
      "metadata": {
        "id": "fVDhE4jIxfF-"
      },
      "execution_count": null,
      "outputs": []
    },
    {
      "cell_type": "code",
      "source": [
        "len(altura1)"
      ],
      "metadata": {
        "id": "g-eJm2NhxnsK"
      },
      "execution_count": null,
      "outputs": []
    },
    {
      "cell_type": "code",
      "source": [
        "# Criando Função Probabilidade\n",
        "def probab (A, E):\n",
        "  resultado = (A / E)*100\n",
        "  print('{:.2f}'.format(resultado))"
      ],
      "metadata": {
        "id": "jY3LdomExrDO"
      },
      "execution_count": null,
      "outputs": []
    },
    {
      "cell_type": "code",
      "source": [
        "# Probabilidade de retirar preferência da cor preto\n",
        "probab (len(cor_preto), len(dados))"
      ],
      "metadata": {
        "id": "WKqkxMEAyXKg"
      },
      "execution_count": null,
      "outputs": []
    },
    {
      "cell_type": "code",
      "source": [
        "# Probabilidade de ter menos que 1.70\n",
        "probab (len(altura1), len(dados))"
      ],
      "metadata": {
        "id": "buMrG71yytG9"
      },
      "execution_count": null,
      "outputs": []
    },
    {
      "cell_type": "markdown",
      "source": [
        "## Probabilidade de não ocorrer o evento"
      ],
      "metadata": {
        "id": "BYohHwDkzLF8"
      }
    },
    {
      "cell_type": "code",
      "source": [
        "# Criando Função Probabilidade de não ocorrer um evento\n",
        "def probab_nao (A, E):\n",
        "  resultado = (1- (A / E))*100\n",
        "  print('{2:;f}'.format(resultado))"
      ],
      "metadata": {
        "id": "f-HBhdrszQV0"
      },
      "execution_count": null,
      "outputs": []
    },
    {
      "cell_type": "code",
      "source": [
        "cor_vermelho = dados.loc[dados.cor_favorita.isin(['vermelha', 'vermelho'])]\n",
        "cor_vermelho.head()"
      ],
      "metadata": {
        "id": "QdxE-BRdzwJS"
      },
      "execution_count": null,
      "outputs": []
    },
    {
      "cell_type": "code",
      "source": [
        "# Probabilidade de não retirar cor favorita vermelho\n",
        "probab_nao (len(cor_vermelho), len(dados))"
      ],
      "metadata": {
        "id": "9eFxxVAY0CQa"
      },
      "execution_count": null,
      "outputs": []
    },
    {
      "cell_type": "code",
      "source": [
        "# Criando função probabilidade de intersecção de\n",
        "def probab_inter (A, B, E):\n",
        "  resultado = (A/E * B/E)*100\n",
        "  print('{:.1f}'.format(resultado))"
      ],
      "metadata": {
        "id": "2fJsfcfw0hek"
      },
      "execution_count": null,
      "outputs": []
    },
    {
      "cell_type": "code",
      "source": [
        "# Probabilidade de sortear duas pessoaas, com reposição, sendo uma delas com\n",
        "# a altura menor que 1.70 e a outra cor favorita preto.\n",
        "probab_inter(len(cor_preto, len))"
      ],
      "metadata": {
        "id": "eWC5_65u1OOs"
      },
      "execution_count": null,
      "outputs": []
    },
    {
      "cell_type": "markdown",
      "source": [
        "## Probabilidade da união (AUB)"
      ],
      "metadata": {
        "id": "Ui2Y9Dsf1l6m"
      }
    },
    {
      "cell_type": "code",
      "source": [
        "# Criando função probabilidade da união (AUB)\n",
        "def probab_uniao (A, B, AB, E):\n",
        "    resultado = (A/E + B/E - AB/E)*100\n",
        "    print('{:.2f}'.format(resultado))"
      ],
      "metadata": {
        "id": "UDSKneS52zyz"
      },
      "execution_count": null,
      "outputs": []
    }
  ]
}